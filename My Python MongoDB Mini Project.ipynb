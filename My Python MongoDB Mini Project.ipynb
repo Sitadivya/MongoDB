{
 "cells": [
  {
   "cell_type": "code",
   "execution_count": 1,
   "metadata": {},
   "outputs": [
    {
     "name": "stdout",
     "output_type": "stream",
     "text": [
      "Done!\n"
     ]
    }
   ],
   "source": [
    "import pymongo\n",
    "connect = pymongo.MongoClient(\"localhost\",27017)\n",
    "database = connect['Information']\n",
    "collection = database[\"Registration\"]\n",
    "print(\"Done!\")\n"
   ]
  },
  {
   "cell_type": "code",
   "execution_count": 2,
   "metadata": {},
   "outputs": [
    {
     "data": {
      "text/plain": [
       "1"
      ]
     },
     "execution_count": 2,
     "metadata": {},
     "output_type": "execute_result"
    }
   ],
   "source": [
    "collection.count_documents({\"Username\":\"Divya\"})"
   ]
  },
  {
   "cell_type": "code",
   "execution_count": 7,
   "metadata": {},
   "outputs": [
    {
     "data": {
      "text/plain": [
       "[{'_id': ObjectId('60571e8f65248812d3739678'),\n",
       "  'Name': 'Divya',\n",
       "  'Username': 'Divya',\n",
       "  'Password': 'Divya123'},\n",
       " {'_id': ObjectId('6057222665248812d3739679'),\n",
       "  'Name': 'Sravya',\n",
       "  'Username': 'Sravya',\n",
       "  'Password': 'Sravya345'},\n",
       " {'_id': ObjectId('60572c5f10c341087d05aa7f'),\n",
       "  'Name': 'Subbayamma',\n",
       "  'Username': 'Subbi',\n",
       "  'Password': 'EdoOkati'},\n",
       " {'_id': ObjectId('60573cfd9ee9dfa408ed5dba'),\n",
       "  'Name': 'Subbi',\n",
       "  'Username': 'Subbi',\n",
       "  'Password': 'EdoOkati'},\n",
       " {'_id': ObjectId('605742e5d27283259cb10914'),\n",
       "  'Name': 'Kavya',\n",
       "  'Username': 'Kavya',\n",
       "  'Password': 'Kavya678'}]"
      ]
     },
     "execution_count": 7,
     "metadata": {},
     "output_type": "execute_result"
    }
   ],
   "source": [
    "dataset = list(collection.find())\n",
    "dataset"
   ]
  },
  {
   "cell_type": "code",
   "execution_count": 8,
   "metadata": {},
   "outputs": [
    {
     "data": {
      "text/plain": [
       "'Divya'"
      ]
     },
     "execution_count": 8,
     "metadata": {},
     "output_type": "execute_result"
    }
   ],
   "source": [
    "dataset[0][\"Username\"]"
   ]
  },
  {
   "cell_type": "code",
   "execution_count": 9,
   "metadata": {},
   "outputs": [
    {
     "data": {
      "text/plain": [
       "2"
      ]
     },
     "execution_count": 9,
     "metadata": {},
     "output_type": "execute_result"
    }
   ],
   "source": [
    "collection.count_documents({\"Username\":'Subbi'})"
   ]
  },
  {
   "cell_type": "code",
   "execution_count": 10,
   "metadata": {},
   "outputs": [
    {
     "name": "stdout",
     "output_type": "stream",
     "text": [
      "1) Login\n",
      "2) Registration\n",
      "1\n",
      "Enter the username: Kavya\n",
      "Enter the password: Kavya\n",
      "Wrong password, try again, you have only 4 chance\n",
      "Enter the password: Kavya\n",
      "Wrong password, try again, you have only 3 chance\n",
      "Enter the password: Kavya678\n",
      "Login successfully!..........\n"
     ]
    }
   ],
   "source": [
    "ask = input(\"1) Login\\n2) Registration\\n\")\n",
    "\n",
    "if ask==\"2\":\n",
    "    name = input(\"Enter your name: \")\n",
    "    username = input(\"Enter username: \")\n",
    "    password = input(\"Enter the password: \")\n",
    "\n",
    "    data = {\"Name\":name,\"Username\":username,\"Password\":password}\n",
    "    collection.insert_one(data)\n",
    "    print(\"Data inserted............. :)\")\n",
    "\n",
    "elif ask==\"1\":\n",
    "\n",
    "    count = 5\n",
    "    while True:\n",
    "        username = input(\"Enter the username: \")\n",
    "        counts=collection.count_documents({\"Username\":username})\n",
    "        if counts>0:\n",
    "            find=collection.find({\"Username\":username})\n",
    "            for name in find:\n",
    "                user = name['Username']\n",
    "                password = name['Password']\n",
    "            while True:\n",
    "                passwd = input(\"Enter the password: \")\n",
    "                if passwd == password:\n",
    "                    print(\"Login successfully!..........\")\n",
    "                    break\n",
    "                elif count==0:\n",
    "                    print(\"Your account has blocked for 24hrs\")\n",
    "                    break\n",
    "\n",
    "                else:\n",
    "                    count-=1\n",
    "                    print(\"Wrong password, try again, you have only %d chance\"%(count))\n",
    "\n",
    "\n",
    "            break\n",
    "\n",
    "        elif count==0:\n",
    "            print(\"Your account has blocked for 24hrs\")\n",
    "            break\n",
    "        else:\n",
    "            count-=1\n",
    "            print(\"Wrong username, try again. you have only %d chance\"%(count))\n",
    "else:\n",
    "    print(\"put proper value\")"
   ]
  },
  {
   "cell_type": "code",
   "execution_count": null,
   "metadata": {},
   "outputs": [],
   "source": []
  }
 ],
 "metadata": {
  "kernelspec": {
   "display_name": "Python 3",
   "language": "python",
   "name": "python3"
  },
  "language_info": {
   "codemirror_mode": {
    "name": "ipython",
    "version": 3
   },
   "file_extension": ".py",
   "mimetype": "text/x-python",
   "name": "python",
   "nbconvert_exporter": "python",
   "pygments_lexer": "ipython3",
   "version": "3.7.4"
  }
 },
 "nbformat": 4,
 "nbformat_minor": 2
}
